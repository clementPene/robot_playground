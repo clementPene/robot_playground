{
 "cells": [
  {
   "cell_type": "markdown",
   "id": "df883027-ff9a-4dfe-adf8-f10a73718a07",
   "metadata": {},
   "source": [
    "# H1V2 SQUAT\n",
    "\n",
    "The idea is to do a squat movement with h1v2. This time, I will not use a given trajectory, but will try to define one by myself.\n",
    "I first plan to give a trajectory to the center of mass. "
   ]
  },
  {
   "cell_type": "code",
   "execution_count": 2,
   "id": "543bad62-8071-49a4-9cd5-4885a0cb59bc",
   "metadata": {},
   "outputs": [
    {
     "name": "stdout",
     "output_type": "stream",
     "text": [
      "--- Searching for robot paths ---\n",
      "Detected project root directory: /home/cpene/Documents/robot_playground\n",
      "Asset paths verified.\n",
      "Detected urdf file: /home/cpene/Documents/robot_playground/robot_models/h1_2_description/h1_2_handless.urdf\n",
      "Detected mesh directory: /home/cpene/Documents/robot_playground/robot_models/h1_2_description\n",
      "Launching MeshCat...\n",
      "You can open the visualizer by visiting the following URL:\n",
      "http://127.0.0.1:7018/static/\n",
      "Adding a grid to represent the ground.\n",
      "Loading robot model into Pinocchio...\n",
      "Pinocchio model loaded successfully.\n",
      "\n",
      "Environment is ready !\n",
      "--- Pinocchio model datas ---\n",
      "Robot name: h1_2\n",
      "Configuration dimension (nq): 34\n",
      "Velocity dimension (nv): 33\n",
      "Frame 'left_ground_contact' added successfully.\n",
      "Frame 'right_ground_contact' added successfully.\n"
     ]
    }
   ],
   "source": [
    "# import robot_loader from scripts\n",
    "import pinocchio as pin\n",
    "import crocoddyl\n",
    "import os\n",
    "import numpy as np\n",
    "from scripts.robot_loader import *\n",
    "import meshcat.geometry as mg\n",
    "\n",
    "# load model on Meshcat\n",
    "model, collision_model, visual_model, robot_visualizer, viz = launch_visualization()\n",
    "\n",
    "print(f\"--- Pinocchio model datas ---\")\n",
    "print(f\"Robot name: {model.name}\")\n",
    "print(f\"Configuration dimension (nq): {model.nq}\")\n",
    "print(f\"Velocity dimension (nv): {model.nv}\")\n",
    "\n",
    "# We modify the model to add frame for contact with the ground\n",
    "model = add_contact_frames(model, contact_z_offset=0.05)\n",
    "data = model.createData()\n",
    "robot_visualizer.data = data\n",
    "\n",
    "# Display some frames\n",
    "frames_to_display = [\"pelvis\", \"left_ground_contact\", \"right_ground_contact\"]\n",
    "frame_ids = [model.getFrameId(frame_name) for frame_name in frames_to_display]\n",
    "robot_visualizer.displayFrames(True, frame_ids)\n",
    "\n",
    "# Display the robot on in initial position, with his feets close to the ground\n",
    "q0 = pin.neutral(model)\n",
    "q0[2] = 1.03\n",
    "robot_visualizer.display(q0)"
   ]
  },
  {
   "cell_type": "code",
   "execution_count": null,
   "id": "8a181b60-78e5-4e09-873d-6dfc4b8526ba",
   "metadata": {},
   "outputs": [],
   "source": []
  }
 ],
 "metadata": {
  "kernelspec": {
   "display_name": "Python 3 (ipykernel)",
   "language": "python",
   "name": "python3"
  },
  "language_info": {
   "codemirror_mode": {
    "name": "ipython",
    "version": 3
   },
   "file_extension": ".py",
   "mimetype": "text/x-python",
   "name": "python",
   "nbconvert_exporter": "python",
   "pygments_lexer": "ipython3",
   "version": "3.12.3"
  }
 },
 "nbformat": 4,
 "nbformat_minor": 5
}
