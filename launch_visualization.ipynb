{
 "cells": [
  {
   "cell_type": "code",
   "execution_count": 1,
   "id": "01d8c043-6722-4c5e-9f16-945e7b03f0fd",
   "metadata": {},
   "outputs": [
    {
     "name": "stdout",
     "output_type": "stream",
     "text": [
      "--- Starting load process via robot_loader module ---\n",
      "Detected project root directory: /home/cpene/Documents/robot_playground\n",
      "Asset paths verified.\n",
      "Launching MeshCat...\n",
      "You can open the visualizer by visiting the following URL:\n",
      "http://127.0.0.1:7000/static/\n",
      "Adding a grid to represent the ground.\n",
      "Loading robot model into Pinocchio...\n",
      "Pinocchio model loaded successfully.\n",
      "--- Loading complete. Objects are ready to be used. ---\n",
      "\n",
      "Environment is ready !\n"
     ]
    }
   ],
   "source": [
    "# Imports robot and initialize visualisation\n",
    "import pinocchio as pin\n",
    "import numpy as np\n",
    "\n",
    "# import robot_loader from scripts\n",
    "from scripts.robot_loader import load_robot_and_visualizer\n",
    "\n",
    "model, viz, robot_visualizer = load_robot_and_visualizer()\n",
    "\n",
    "if model:\n",
    "    viewer_window = viz.open()\n",
    "    robot_visualizer.initViewer(viewer=viz)\n",
    "    robot_visualizer.loadViewerModel()\n",
    "    print(\"\\nEnvironment is ready !\")"
   ]
  },
  {
   "cell_type": "code",
   "execution_count": 2,
   "id": "745ed518-4097-4d1c-93e7-a67272f607de",
   "metadata": {},
   "outputs": [],
   "source": [
    "# display the robot on in initial position, with his feets close to the ground\n",
    "q0 = pin.neutral(model)\n",
    "q0[2] = 1.03\n",
    "\n",
    "robot_visualizer.display(q0)"
   ]
  },
  {
   "cell_type": "code",
   "execution_count": null,
   "id": "97f94ba3-c757-4ea4-87ab-3904f8c723b9",
   "metadata": {},
   "outputs": [],
   "source": []
  }
 ],
 "metadata": {
  "kernelspec": {
   "display_name": "Python 3 (ipykernel)",
   "language": "python",
   "name": "python3"
  },
  "language_info": {
   "codemirror_mode": {
    "name": "ipython",
    "version": 3
   },
   "file_extension": ".py",
   "mimetype": "text/x-python",
   "name": "python",
   "nbconvert_exporter": "python",
   "pygments_lexer": "ipython3",
   "version": "3.12.3"
  }
 },
 "nbformat": 4,
 "nbformat_minor": 5
}
