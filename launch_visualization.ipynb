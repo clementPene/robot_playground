{
 "cells": [
  {
   "cell_type": "markdown",
   "id": "c85ab7a2-ae87-4d95-a276-d734c5ebea12",
   "metadata": {},
   "source": [
    "# Running trajectory \n",
    "\n",
    "The target of this file is to provide step by step implementation on how to launch a visualisation of a given trajectory on H1 robot.\n",
    "The trajectory is given on a **.npy** file. It is supposed to perform a **squat movement**.\n",
    "\n",
    "I had some issues with joint order, which was different that the one defined on the urdf.\n"
   ]
  },
  {
   "cell_type": "code",
   "execution_count": 3,
   "id": "01d8c043-6722-4c5e-9f16-945e7b03f0fd",
   "metadata": {},
   "outputs": [
    {
     "name": "stdout",
     "output_type": "stream",
     "text": [
      "--- Searching for robot paths ---\n",
      "Detected project root directory: /home/cpene/Documents/robot_playground\n",
      "Asset paths verified.\n",
      "Detected urdf file: /home/cpene/Documents/robot_playground/robot_models/biped_assets/biped_assets/models/h12/h12_12dof.urdf\n",
      "Detected mesh directory: /home/cpene/Documents/robot_playground/robot_models/biped_assets/biped_assets/models/h12\n",
      "Launching MeshCat...\n",
      "You can open the visualizer by visiting the following URL:\n",
      "http://127.0.0.1:7004/static/\n",
      "Adding a grid to represent the ground.\n",
      "Loading robot model into Pinocchio...\n",
      "Pinocchio model loaded successfully.\n",
      "--- Loading complete. Objects are ready to be used. ---\n",
      "\n",
      "Environment is ready !\n"
     ]
    }
   ],
   "source": [
    "# Imports robot and initialize visualisation\n",
    "import pinocchio as pin\n",
    "from pinocchio.visualize import MeshcatVisualizer\n",
    "import numpy as np\n",
    "import meshcat\n",
    "\n",
    "# import robot_loader from scripts\n",
    "from scripts.robot_loader import load_robot_paths\n",
    "\n",
    "# load paths from scripts\n",
    "urdf_path, mesh_path = load_robot_paths()\n",
    "\n",
    "print(\"Launching MeshCat...\")\n",
    "viz = meshcat.Visualizer()\n",
    "print(\"Adding a grid to represent the ground.\")\n",
    "viz[\"/Grid\"].set_property(\"visible\", True)\n",
    "\n",
    "# Load robot into Pinocchio\n",
    "print(\"Loading robot model into Pinocchio...\")\n",
    "try:\n",
    "    model, collision_model, visual_model = pin.buildModelsFromUrdf(\n",
    "        urdf_path,\n",
    "        mesh_path,\n",
    "    )\n",
    "    print(\"Pinocchio model loaded successfully.\")\n",
    "except Exception as e:\n",
    "    print(f\"Error loading robot: {e}\")\n",
    "\n",
    "# Create Pinocchio visualizer\n",
    "robot_visualizer = MeshcatVisualizer(model, collision_model, visual_model)\n",
    "    \n",
    "print(\"--- Loading complete. Objects are ready to be used. ---\")\n",
    "\n",
    "if model:\n",
    "    viewer_window = viz.open()\n",
    "    robot_visualizer.initViewer(viewer=viz)\n",
    "    robot_visualizer.loadViewerModel()\n",
    "    print(\"\\nEnvironment is ready !\")"
   ]
  },
  {
   "cell_type": "code",
   "execution_count": 5,
   "id": "745ed518-4097-4d1c-93e7-a67272f607de",
   "metadata": {},
   "outputs": [],
   "source": [
    "# Display the robot on in initial position, with his feets close to the ground\n",
    "q0 = pin.neutral(model)\n",
    "q0[2] = 1.03\n",
    "\n",
    "robot_visualizer.display(q0)"
   ]
  },
  {
   "cell_type": "code",
   "execution_count": 6,
   "id": "97f94ba3-c757-4ea4-87ab-3904f8c723b9",
   "metadata": {},
   "outputs": [
    {
     "name": "stdout",
     "output_type": "stream",
     "text": [
      "\n",
      "Trajectory load from 'data/h1v2_squat_fixed_ankle_states.npy'.\n",
      "Original dimensions : (176, 1, 67)\n",
      "Dimensions are now : (176, 67)\n"
     ]
    }
   ],
   "source": [
    "# Load trajectory\n",
    "import time\n",
    "import os\n",
    "\n",
    "# Path to datas \n",
    "trajectory_file = os.path.join(\"data\", \"h1v2_squat_fixed_ankle_states.npy\")\n",
    "\n",
    "try:\n",
    "    # Load data\n",
    "    trajectory_data = np.load(trajectory_file)\n",
    "    print(f\"\\nTrajectory load from '{trajectory_file}'.\")\n",
    "    print(f\"Original dimensions : {trajectory_data.shape}\")\n",
    "\n",
    "    # The result is (176, 1, 67). That means we got one unexpected dimendion of size 1  \n",
    "    # We delete this dimension (TODO : what is it supposed to be ?)\n",
    "    trajectory_data = np.squeeze(trajectory_data)\n",
    "    print(f\"Dimensions are now : {trajectory_data.shape}\")\n",
    "    \n",
    "except FileNotFoundError:\n",
    "    print(f\"ERROR : the file {trajectory_file} was not found.\")\n",
    "    raise"
   ]
  },
  {
   "cell_type": "code",
   "execution_count": 7,
   "id": "cef7e95d-9e93-4e55-8c74-056a18b9da02",
   "metadata": {},
   "outputs": [
    {
     "name": "stdout",
     "output_type": "stream",
     "text": [
      "Robot : h1_5\n",
      "robot.nq = 34.\n",
      "robot.nv = 33.\n",
      "\n",
      "Dimensions of both trajectory and robot matches. Great !\n"
     ]
    }
   ],
   "source": [
    "# At some point, I needed to know the dimension of the urdf. After checking,\n",
    "# some modification on the urdf were needed to match dimension from the trajectory\n",
    "print(f\"Robot : {model.name}\")\n",
    "print(f\"robot.nq = {model.nq}.\")\n",
    "print(f\"robot.nv = {model.nv}.\")\n",
    "\n",
    "expected_state_dim = model.nq + model.nv\n",
    "\n",
    "if expected_state_dim != trajectory_data.shape[1]:\n",
    "    print(\"\\n\" + \"=\"*50)\n",
    "    print(\"ERROR : dimensions doesn't match !\")\n",
    "    print(f\"Robot dimensions (q+v) are {expected_state_dim} ({model.nq} + {model.nv}).\")\n",
    "    print(f\"Trajectory dimensions are {trajectory_data.shape[1]} columns.\")\n",
    "    print(\"=\"*50)\n",
    "    raise ValueError(\"Dimensions doesn't match\")\n",
    "else:\n",
    "    print(\"\\nDimensions of both trajectory and robot matches. Great !\")   "
   ]
  },
  {
   "cell_type": "code",
   "execution_count": 8,
   "id": "d6d2a7ce-daf1-4163-9ebc-c56c5859a3e2",
   "metadata": {},
   "outputs": [],
   "source": [
    "# Last problem was that joint order was not the same in the urdf and trajectory\n",
    "pinocchio_order = [\n",
    "    'left_hip_yaw_joint', 'left_hip_pitch_joint', 'left_hip_roll_joint', \n",
    "    'left_knee_joint', 'left_ankle_pitch_joint', 'left_ankle_roll_joint', \n",
    "    'right_hip_yaw_joint', 'right_hip_pitch_joint', 'right_hip_roll_joint', \n",
    "    'right_knee_joint', 'right_ankle_pitch_joint', 'right_ankle_roll_joint', \n",
    "    'torso_joint', \n",
    "    'left_shoulder_pitch_joint', 'left_shoulder_roll_joint', 'left_shoulder_yaw_joint', \n",
    "    'left_elbow_joint', 'left_wrist_roll_joint', 'left_wrist_pitch_joint', 'left_wrist_yaw_joint', \n",
    "    'right_shoulder_pitch_joint', 'right_shoulder_roll_joint', 'right_shoulder_yaw_joint', \n",
    "    'right_elbow_joint', 'right_wrist_roll_joint', 'right_wrist_pitch_joint', 'right_wrist_yaw_joint'\n",
    "]\n",
    "\n",
    "trajectory_file_order = [\n",
    "    'left_hip_yaw_joint', 'right_hip_yaw_joint', 'torso_joint', \n",
    "    'left_hip_pitch_joint', 'right_hip_pitch_joint', 'left_shoulder_pitch_joint', \n",
    "    'right_shoulder_pitch_joint', 'left_hip_roll_joint', 'right_hip_roll_joint', \n",
    "    'left_shoulder_roll_joint', 'right_shoulder_roll_joint', 'left_knee_joint', \n",
    "    'right_knee_joint', 'left_shoulder_yaw_joint', 'right_shoulder_yaw_joint', \n",
    "    'left_ankle_pitch_joint', 'right_ankle_pitch_joint', 'left_elbow_joint', \n",
    "    'right_elbow_joint', 'left_ankle_roll_joint', 'right_ankle_roll_joint', \n",
    "    'left_wrist_roll_joint', 'right_wrist_roll_joint', 'left_wrist_pitch_joint', \n",
    "    'right_wrist_pitch_joint', 'left_wrist_yaw_joint', 'right_wrist_yaw_joint'\n",
    "]\n",
    "\n",
    "# 2. Populate a list for reodonnancement\n",
    "# For each articulation in Pinocchio, we find its index on thetrajectory file.\n",
    "source_indices = [trajectory_file_order.index(joint_name) for joint_name in pinocchio_order]"
   ]
  },
  {
   "cell_type": "code",
   "execution_count": 13,
   "id": "a58420a2-f108-4e43-b34c-1134a27f51a7",
   "metadata": {},
   "outputs": [
    {
     "name": "stdout",
     "output_type": "stream",
     "text": [
      "Starting animation...\n",
      "\n",
      "Animation end.\n"
     ]
    }
   ],
   "source": [
    "# Launch the simulation\n",
    "# import converter tools from scripts\n",
    "from scripts.conversion import build_pinocchio_state\n",
    "\n",
    "print(\"Starting animation...\")\n",
    "\n",
    "for raw_state in trajectory_data:\n",
    "\n",
    "    # We call the conversion tool\n",
    "    q, v = build_pinocchio_state(raw_state, source_indices)\n",
    "\n",
    "    # for Debug\n",
    "    # print(f\"g finale size: {q.shape[0]} (Expected: {model.nq})\")\n",
    "\n",
    "    # Send q to robot visualization\n",
    "    robot_visualizer.display(q)\n",
    "\n",
    "    # dt is 0.033333333 s\n",
    "    time.sleep(0.033)\n",
    "\n",
    "print(\"\\nAnimation end.\")"
   ]
  },
  {
   "cell_type": "code",
   "execution_count": null,
   "id": "e73f39dc-4e6d-45ed-8dce-7a07965f89c9",
   "metadata": {},
   "outputs": [],
   "source": []
  },
  {
   "cell_type": "code",
   "execution_count": null,
   "id": "3abdaec4-02c1-4df7-98a8-61a12cfdcbba",
   "metadata": {},
   "outputs": [],
   "source": []
  }
 ],
 "metadata": {
  "kernelspec": {
   "display_name": "Python 3 (ipykernel)",
   "language": "python",
   "name": "python3"
  },
  "language_info": {
   "codemirror_mode": {
    "name": "ipython",
    "version": 3
   },
   "file_extension": ".py",
   "mimetype": "text/x-python",
   "name": "python",
   "nbconvert_exporter": "python",
   "pygments_lexer": "ipython3",
   "version": "3.12.3"
  }
 },
 "nbformat": 4,
 "nbformat_minor": 5
}
