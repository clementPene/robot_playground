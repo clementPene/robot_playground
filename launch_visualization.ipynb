{
 "cells": [
  {
   "cell_type": "markdown",
   "id": "c85ab7a2-ae87-4d95-a276-d734c5ebea12",
   "metadata": {},
   "source": [
    "# Running trajectory \n",
    "\n",
    "The target of this file is to provide step by step implementation on how to launch a visualisation of a given trajectory on H1 robot.\n",
    "The trajectory is given on a **.npy** file. It is supposed to perform a **squat movement**.\n",
    "\n",
    "I had some issues with joint order, which was different that the one defined on the urdf.\n"
   ]
  },
  {
   "cell_type": "code",
   "execution_count": 6,
   "id": "01d8c043-6722-4c5e-9f16-945e7b03f0fd",
   "metadata": {},
   "outputs": [
    {
     "name": "stdout",
     "output_type": "stream",
     "text": [
      "--- Searching for robot paths ---\n",
      "Detected project root directory: /home/cpene/Documents/robot_playground\n",
      "Asset paths verified.\n",
      "Detected urdf file: /home/cpene/Documents/robot_playground/robot_models/biped_assets/biped_assets/models/h12/h12_12dof.urdf\n",
      "Detected mesh directory: /home/cpene/Documents/robot_playground/robot_models/biped_assets/biped_assets/models/h12\n",
      "Launching MeshCat...\n",
      "You can open the visualizer by visiting the following URL:\n",
      "http://127.0.0.1:7005/static/\n",
      "Adding a grid to represent the ground.\n",
      "Loading robot model into Pinocchio...\n",
      "Pinocchio model loaded successfully.\n",
      "\n",
      "Environment is ready !\n"
     ]
    }
   ],
   "source": [
    "# import robot_loader from scripts\n",
    "import pinocchio as pin\n",
    "import os\n",
    "import time\n",
    "import numpy as np\n",
    "from scripts.robot_loader import launch_visualization\n",
    "\n",
    "# I choose to make abstraction on this part as it is not really interesting. See the specific file for more details\n",
    "# load model on Meshcat\n",
    "model, collision_model, visual_model, robot_visualizer, viz = launch_visualization()\n"
   ]
  },
  {
   "cell_type": "code",
   "execution_count": 2,
   "id": "745ed518-4097-4d1c-93e7-a67272f607de",
   "metadata": {},
   "outputs": [],
   "source": [
    "# Display the robot on in initial position, with his feets close to the ground\n",
    "q0 = pin.neutral(model)\n",
    "q0[2] = 1.03\n",
    "\n",
    "robot_visualizer.display(q0)"
   ]
  },
  {
   "cell_type": "code",
   "execution_count": 3,
   "id": "97f94ba3-c757-4ea4-87ab-3904f8c723b9",
   "metadata": {},
   "outputs": [
    {
     "name": "stdout",
     "output_type": "stream",
     "text": [
      "Raw trajectory converted and separated into q and v trajectories.\n"
     ]
    }
   ],
   "source": [
    "# This part is abstracted, and resolve the problem that trajectory inputs data doesn't have the same joints order as pinocchio\n",
    "# see specific file for more details\n",
    "from scripts.trajectory_utils import convert_trajectory_to_pinocchio_format\n",
    "\n",
    "# Path to trajectory datas \n",
    "trajectory_file = os.path.join(\"data\", \"h1v2_squat_fixed_ankle_states.npy\")\n",
    "raw_trajectory = np.load(trajectory_file)\n",
    "\n",
    "# call conversion tool\n",
    "q_trajectory, v_trajectory = convert_trajectory_to_pinocchio_format(raw_trajectory)"
   ]
  },
  {
   "cell_type": "code",
   "execution_count": 4,
   "id": "cef7e95d-9e93-4e55-8c74-056a18b9da02",
   "metadata": {},
   "outputs": [
    {
     "name": "stdout",
     "output_type": "stream",
     "text": [
      "Robot : h1_5\n",
      "robot.nq = 34.\n",
      "robot.nv = 33.\n",
      "\n",
      "Dimensions of both q and v trajectories match the robot model. Great!\n"
     ]
    }
   ],
   "source": [
    "# At some point, I needed to know the dimension of the urdf. After checking,\n",
    "# some modification on the urdf were needed to match dimension from the trajectory\n",
    "print(f\"Robot : {model.name}\")\n",
    "print(f\"robot.nq = {model.nq}.\")\n",
    "print(f\"robot.nv = {model.nv}.\")\n",
    "\n",
    "q_dim_match = (model.nq == q_trajectory.shape[1])\n",
    "v_dim_match = (model.nv == v_trajectory.shape[1])\n",
    "\n",
    "if q_dim_match and v_dim_match:\n",
    "    print(\"\\nDimensions of both q and v trajectories match the robot model. Great!\")\n",
    "else:\n",
    "    print(\"\\n\" + \"=\"*50)\n",
    "    print(\"ERROR: Dimension mismatch between robot model and trajectory!\")\n",
    "    # On spécifie quelle dimension est incorrecte\n",
    "    if not q_dim_match:\n",
    "        print(f\"  -> Configuration (q) ERROR: Model nq={model.nq}, but trajectory has {q_trajectory.shape[1]} columns.\")\n",
    "    if not v_dim_match:\n",
    "        print(f\"  -> Velocity (v) ERROR: Model nv={model.nv}, but trajectory has {v_trajectory.shape[1]} columns.\")\n",
    "    print(\"=\"*50)\n",
    "    raise ValueError(\"Dimension mismatch detected. Please check your URDF or data conversion script.\")"
   ]
  },
  {
   "cell_type": "code",
   "execution_count": 5,
   "id": "a58420a2-f108-4e43-b34c-1134a27f51a7",
   "metadata": {},
   "outputs": [
    {
     "name": "stdout",
     "output_type": "stream",
     "text": [
      "Starting animation...\n",
      "\n",
      "Animation end.\n"
     ]
    }
   ],
   "source": [
    "# Launch the simulation\n",
    "\n",
    "print(\"Starting animation...\")\n",
    "\n",
    "for q in q_trajectory:\n",
    "\n",
    "    # Send q to robot visualization\n",
    "    robot_visualizer.display(q)\n",
    "\n",
    "    # dt is 0.033333333 s\n",
    "    time.sleep(0.033)\n",
    "\n",
    "print(\"\\nAnimation end.\")"
   ]
  },
  {
   "cell_type": "code",
   "execution_count": null,
   "id": "62eba73b-d484-4a23-b8ab-a7370bf35be7",
   "metadata": {},
   "outputs": [],
   "source": []
  }
 ],
 "metadata": {
  "kernelspec": {
   "display_name": "Python 3 (ipykernel)",
   "language": "python",
   "name": "python3"
  },
  "language_info": {
   "codemirror_mode": {
    "name": "ipython",
    "version": 3
   },
   "file_extension": ".py",
   "mimetype": "text/x-python",
   "name": "python",
   "nbconvert_exporter": "python",
   "pygments_lexer": "ipython3",
   "version": "3.12.3"
  }
 },
 "nbformat": 4,
 "nbformat_minor": 5
}
