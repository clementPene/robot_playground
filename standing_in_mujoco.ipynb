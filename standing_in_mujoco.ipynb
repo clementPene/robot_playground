{
 "cells": [
  {
   "cell_type": "markdown",
   "id": "6d380fea-652d-48e4-9554-6212765af8bc",
   "metadata": {},
   "source": [
    "# Using Mujoco simulator\n",
    "\n",
    "On this page, I want to use a simulator to modelise the robot physics. \n",
    "\n"
   ]
  },
  {
   "cell_type": "code",
   "execution_count": 1,
   "id": "431d3104-4fb9-46eb-bcd1-a6bb86967e29",
   "metadata": {},
   "outputs": [
    {
     "name": "stderr",
     "output_type": "stream",
     "text": [
      "/home/cpene/Documents/robot_playground/.venv/lib/python3.12/site-packages/glfw/__init__.py:917: GLFWError: (65548) b'Wayland: The platform does not provide the window position'\n",
      "  warnings.warn(message, GLFWError)\n"
     ]
    }
   ],
   "source": [
    "import mujoco\n",
    "import mujoco.viewer\n",
    "import time\n",
    "\n",
    "# Remplacez 'votre_modele.xml' par le chemin d'accès à votre fichier XML\n",
    "try:\n",
    "    m = mujoco.MjModel.from_xml_path('robot_models/h1_2_description/h1_2_handless.xml')\n",
    "    d = mujoco.MjData(m)\n",
    "except Exception as e:\n",
    "    print(f\"Erreur lors du chargement du fichier XML : {e}\")\n",
    "    exit()\n",
    "\n",
    "# Lancer le visualiseur interactif\n",
    "with mujoco.viewer.launch_passive(m, d) as viewer:\n",
    "  # Boucle de simulation\n",
    "  start = time.time()\n",
    "  while viewer.is_running() and time.time() - start < 30:\n",
    "    step_start = time.time()\n",
    "    mujoco.mj_step(m, d)\n",
    "\n",
    "    # Synchroniser le visualiseur\n",
    "    with viewer.lock():\n",
    "      viewer.opt.flags[mujoco.mjtVisFlag.mjVIS_CONTACTPOINT] = int(d.time > 0)\n",
    "    viewer.sync()\n",
    "\n",
    "    # Attendre pour respecter le temps de simulation\n",
    "    time_until_next_step = m.opt.timestep - (time.time() - step_start)\n",
    "    if time_until_next_step > 0:\n",
    "      time.sleep(time_until_next_step)\n",
    "\n"
   ]
  },
  {
   "cell_type": "code",
   "execution_count": 27,
   "id": "d61e9501-f894-4f5e-9705-716e9a9cd827",
   "metadata": {},
   "outputs": [],
   "source": [
    "# Display the robot on in initial position, with his feets close to the ground\n",
    "q0 = pin.neutral(model)\n",
    "q0[2] = 1.03\n",
    "\n",
    "robot_visualizer.display(q0)"
   ]
  },
  {
   "cell_type": "code",
   "execution_count": 28,
   "id": "bbc1470c-d4fc-48a3-a851-59918a4714b6",
   "metadata": {},
   "outputs": [
    {
     "name": "stdout",
     "output_type": "stream",
     "text": [
      "--- Preparing Dynamic Simulation ---\n"
     ]
    },
    {
     "ename": "NameError",
     "evalue": "name 'q_base_initiale' is not defined",
     "output_type": "error",
     "traceback": [
      "\u001b[31m---------------------------------------------------------------------------\u001b[39m",
      "\u001b[31mNameError\u001b[39m                                 Traceback (most recent call last)",
      "\u001b[36mCell\u001b[39m\u001b[36m \u001b[39m\u001b[32mIn[28]\u001b[39m\u001b[32m, line 33\u001b[39m\n\u001b[32m     29\u001b[39m \u001b[38;5;66;03m# On intègre la vitesse pour obtenir la nouvelle configuration\u001b[39;00m\n\u001b[32m     30\u001b[39m \u001b[38;5;66;03m# ATTENTION: On utilise pin.integrate, pas une simple addition (q + v*dt)!\u001b[39;00m\n\u001b[32m     31\u001b[39m \u001b[38;5;66;03m# C'est crucial pour gérer correctement les rotations.\u001b[39;00m\n\u001b[32m     32\u001b[39m q_next = pin.integrate(model, q, v * dt)\n\u001b[32m---> \u001b[39m\u001b[32m33\u001b[39m q_next[:\u001b[32m7\u001b[39m] = \u001b[43mq_base_initiale\u001b[49m\n\u001b[32m     35\u001b[39m \u001b[38;5;66;03m# On met à jour nos variables d'état\u001b[39;00m\n\u001b[32m     36\u001b[39m q, v = q_next, v_next\n",
      "\u001b[31mNameError\u001b[39m: name 'q_base_initiale' is not defined"
     ]
    }
   ],
   "source": [
    "print(\"--- Preparing Dynamic Simulation ---\")\n",
    "\n",
    "# 1. Créer l'objet \"data\" associé au modèle. Indispensable.\n",
    "data = model.createData()\n",
    "\n",
    "# 2. Définir les conditions initiales\n",
    "# On génère une configuration aléatoire au lieu d'une configuration neutre\n",
    "q = pin.neutral(model)\n",
    "q[2] = 1.03\n",
    "q[7:] = np.random.uniform(model.lowerPositionLimit[7:], model.upperPositionLimit[7:])\n",
    "\n",
    "v = np.zeros(model.nv)\n",
    "tau = np.zeros(model.nv)\n",
    "model.gravity.linear = np.array([0, 0, -9.81])\n",
    "dt = 0.01  # Pas de temps de la simulation (10ms)\n",
    "\n",
    "robot_visualizer.display(q)\n",
    "\n",
    "for i in range(500): # On simule 500 pas, soit 5 secondes\n",
    "        \n",
    "    # CŒUR DE LA SIMULATION :\n",
    "    # Calcule l'accélération (a) en fonction de l'état (q,v) et des efforts (tau)\n",
    "    # C'est la \"Forward Dynamics\"\n",
    "    a = pin.aba(model, data, q, v, tau)\n",
    "    \n",
    "    # On intègre l'accélération pour obtenir la nouvelle vitesse\n",
    "    v_next = v + a * dt\n",
    "    \n",
    "    # On intègre la vitesse pour obtenir la nouvelle configuration\n",
    "    # ATTENTION: On utilise pin.integrate, pas une simple addition (q + v*dt)!\n",
    "    # C'est crucial pour gérer correctement les rotations.\n",
    "    q_next = pin.integrate(model, q, v * dt)\n",
    "    \n",
    "    # On met à jour nos variables d'état\n",
    "    q, v = q_next, v_next\n",
    "    \n",
    "    # On affiche le nouvel état du robot dans Meshcat\n",
    "    robot_visualizer.display(q)\n",
    "    \n",
    "    # On attend 'dt' secondes pour que la simulation tourne en temps réel\n",
    "    time.sleep(dt)\n",
    "\n",
    "print(\"--- Simulation Finished ---\")\n"
   ]
  },
  {
   "cell_type": "code",
   "execution_count": null,
   "id": "68edb955-799c-4bdb-a314-e40db027c56b",
   "metadata": {},
   "outputs": [],
   "source": []
  }
 ],
 "metadata": {
  "kernelspec": {
   "display_name": "Python 3 (ipykernel)",
   "language": "python",
   "name": "python3"
  },
  "language_info": {
   "codemirror_mode": {
    "name": "ipython",
    "version": 3
   },
   "file_extension": ".py",
   "mimetype": "text/x-python",
   "name": "python",
   "nbconvert_exporter": "python",
   "pygments_lexer": "ipython3",
   "version": "3.12.3"
  }
 },
 "nbformat": 4,
 "nbformat_minor": 5
}
